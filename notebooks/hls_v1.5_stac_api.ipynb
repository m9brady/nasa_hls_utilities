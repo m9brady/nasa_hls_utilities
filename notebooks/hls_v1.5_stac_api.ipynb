{
 "cells": [
  {
   "cell_type": "code",
   "execution_count": 1,
   "metadata": {},
   "outputs": [],
   "source": [
    "#builtin\n",
    "import json\n",
    "import os\n",
    "from datetime import datetime\n",
    "\n",
    "#external\n",
    "import pyproj\n",
    "import rasterio as rio\n",
    "import requests\n",
    "from rasterio.enums import ColorInterp\n",
    "from rasterio.mask import mask\n",
    "from rasterio.warp import Resampling\n",
    "from shapely.geometry import Polygon\n",
    "from shapely.ops import transform"
   ]
  },
  {
   "cell_type": "code",
   "execution_count": 2,
   "metadata": {},
   "outputs": [
    {
     "name": "stdout",
     "output_type": "stream",
     "text": [
      "{\n",
      "  \"type\": \"Feature\",\n",
      "  \"properties\": {},\n",
      "  \"geometry\": {\n",
      "    \"type\": \"Polygon\",\n",
      "    \"coordinates\": [\n",
      "      [\n",
      "        [\n",
      "          -87.8741455078125,\n",
      "          80.3025547350612\n",
      "        ],\n",
      "        [\n",
      "          -87.5006103515625,\n",
      "          80.02955732601929\n",
      "        ],\n",
      "        [\n",
      "          -86.51184082031249,\n",
      "          79.72938465835632\n",
      "        ],\n",
      "        [\n",
      "          -85.10009765625,\n",
      "          79.88201996361602\n",
      "        ],\n",
      "        [\n",
      "          -85.484619140625,\n",
      "          80.30718013404172\n",
      "        ],\n",
      "        [\n",
      "          -87.8741455078125,\n",
      "          80.3025547350612\n",
      "        ]\n",
      "      ]\n",
      "    ]\n",
      "  }\n",
      "}\n"
     ]
    },
    {
     "data": {
      "image/svg+xml": [
       "<svg xmlns=\"http://www.w3.org/2000/svg\" xmlns:xlink=\"http://www.w3.org/1999/xlink\" width=\"100.0\" height=\"100.0\" viewBox=\"-87.985107421875 79.61842274429382 2.9959716796875 0.7997193038103916\" preserveAspectRatio=\"xMinYMin meet\"><g transform=\"matrix(1,0,0,-1,0,160.03656479239805)\"><path fill-rule=\"evenodd\" fill=\"#66cc99\" stroke=\"#555555\" stroke-width=\"0.05991943359375\" opacity=\"0.6\" d=\"M -87.8741455078125,80.3025547350612 L -87.5006103515625,80.02955732601929 L -86.51184082031249,79.72938465835632 L -85.10009765625,79.88201996361602 L -85.484619140625,80.30718013404172 L -87.8741455078125,80.3025547350612 z\" /></g></svg>"
      ],
      "text/plain": [
       "<shapely.geometry.polygon.Polygon at 0x7f22b53580d0>"
      ]
     },
     "execution_count": 2,
     "metadata": {},
     "output_type": "execute_result"
    }
   ],
   "source": [
    "# load a search polygon (Eureka)\n",
    "with open('../assets/query_aoi.geojson') as f:\n",
    "    aoi = json.load(f)['features'][0]\n",
    "print(json.dumps(aoi, indent=2))\n",
    "poly = Polygon(aoi['geometry']['coordinates'][0])\n",
    "poly"
   ]
  },
  {
   "cell_type": "code",
   "execution_count": 3,
   "metadata": {},
   "outputs": [
    {
     "name": "stdout",
     "output_type": "stream",
     "text": [
      "https://cmr.earthdata.nasa.gov/stac/LPCLOUD/search?\n"
     ]
    }
   ],
   "source": [
    "HLS_SEARCH_URL = 'https://cmr.earthdata.nasa.gov/stac/LPCLOUD/search?'\n",
    "print(HLS_SEARCH_URL)"
   ]
  },
  {
   "cell_type": "code",
   "execution_count": 4,
   "metadata": {},
   "outputs": [
    {
     "name": "stdout",
     "output_type": "stream",
     "text": [
      "{\n",
      "  \"bbox\": \"-87.874,79.729,-85.1,80.307\",\n",
      "  \"limit\": 5,\n",
      "  \"datetime\": \"2020-07-11T21:31:25Z/2021-03-04T20:55:00Z\",\n",
      "  \"collections\": [\n",
      "    \"HLSS30.v1.5\"\n",
      "  ],\n",
      "  \"page\": 1\n",
      "}\n"
     ]
    }
   ],
   "source": [
    "# unclear how the STAC `intersects` parameter works - might be misconfigured NASA-side as it produces wrong results when used with raw geojson\n",
    "search_params = {\n",
    "    'bbox': f'{\",\".join([str(round(f,3)) for f in list(poly.bounds)])}',\n",
    "    'limit': 5,\n",
    "    'datetime': '2020-07-11T21:31:25Z/2021-03-04T20:55:00Z',\n",
    "    'collections': ['HLSS30.v1.5'],\n",
    "    'page': 1\n",
    "    #'intersects': aoi\n",
    "}\n",
    "\n",
    "print(json.dumps(search_params, indent=2))"
   ]
  },
  {
   "cell_type": "code",
   "execution_count": 5,
   "metadata": {},
   "outputs": [
    {
     "name": "stdout",
     "output_type": "stream",
     "text": [
      "1 features found with first query\n",
      "1 total features found by the query parameters\n"
     ]
    }
   ],
   "source": [
    "# unclear why NASA-CMR decided to use POST instead of GET\n",
    "search_response = requests.post(HLS_SEARCH_URL, json=search_params).json()\n",
    "print('%d features found with first query' % len(search_response['features']))\n",
    "feats = search_response['features']\n",
    "# pagination is cool\n",
    "try:\n",
    "    next_page = [l['body']['page'] for l in search_response['links'] if l['rel'] == 'next'][0]\n",
    "except IndexError:\n",
    "    next_page = None\n",
    "while next_page is not None:\n",
    "    # increment pagenum in search_params\n",
    "    search_params.update({'page': next_page})\n",
    "    # get the next page\n",
    "    search_response = requests.post(HLS_SEARCH_URL, json=search_params).json()\n",
    "    feats.extend(search_response['features'])\n",
    "    try:\n",
    "        next_page = [l['body']['page'] for l in search_response['links'] if l['rel'] == 'next'][0]\n",
    "    except IndexError:\n",
    "        next_page = None\n",
    "print('%d total features found by the query parameters' % len(feats))"
   ]
  },
  {
   "cell_type": "code",
   "execution_count": 6,
   "metadata": {
    "scrolled": false
   },
   "outputs": [
    {
     "data": {
      "text/plain": [
       "['2020-07-11T21:31:27.859Z']"
      ]
     },
     "execution_count": 6,
     "metadata": {},
     "output_type": "execute_result"
    }
   ],
   "source": [
    "[f['properties']['datetime'] for f in feats]"
   ]
  },
  {
   "cell_type": "code",
   "execution_count": 7,
   "metadata": {},
   "outputs": [
    {
     "data": {
      "text/plain": [
       "{'type': 'Feature',\n",
       " 'id': 'G1949921562-LPCLOUD',\n",
       " 'stac_version': '1.0.0-beta.2',\n",
       " 'stac_extensions': ['eo'],\n",
       " 'collection': 'HLSS30.v1.5',\n",
       " 'geometry': {'type': 'Polygon',\n",
       "  'coordinates': [[[-92.9740114, 79.6750777],\n",
       "    [-87.3864085, 79.9293289],\n",
       "    [-87.3668679, 79.9311576],\n",
       "    [-87.261827, 80.1167733],\n",
       "    [-91.0823543, 80.1599323],\n",
       "    [-93.0010488, 80.1653366],\n",
       "    [-93.0009996, 79.6750788],\n",
       "    [-92.9740114, 79.6750777]]]},\n",
       " 'bbox': [-93.001049, 79.675078, -87.261827, 80.165337],\n",
       " 'links': [{'rel': 'self',\n",
       "   'href': 'https://cmr.earthdata.nasa.gov/stac/LPCLOUD/collections/HLSS30.v1.5/items/G1949921562-LPCLOUD'},\n",
       "  {'rel': 'parent',\n",
       "   'href': 'https://cmr.earthdata.nasa.gov/stac/LPCLOUD/collections/HLSS30.v1.5'},\n",
       "  {'rel': 'collection',\n",
       "   'href': 'https://cmr.earthdata.nasa.gov/stac/LPCLOUD/collections/HLSS30.v1.5'},\n",
       "  {'rel': 'root', 'href': 'https://cmr.earthdata.nasa.gov/stac/'},\n",
       "  {'rel': 'provider', 'href': 'https://cmr.earthdata.nasa.gov/stac/LPCLOUD'},\n",
       "  {'rel': 'via',\n",
       "   'href': 'https://cmr.earthdata.nasa.gov/search/concepts/G1949921562-LPCLOUD.json'},\n",
       "  {'rel': 'via',\n",
       "   'href': 'https://cmr.earthdata.nasa.gov/search/concepts/G1949921562-LPCLOUD.umm_json'}],\n",
       " 'properties': {'datetime': '2020-07-11T21:31:27.859Z',\n",
       "  'start_datetime': '2020-07-11T21:31:27.859Z',\n",
       "  'end_datetime': '2020-07-11T21:31:27.859Z',\n",
       "  'eo:cloud_cover': 11},\n",
       " 'assets': {'B01': {'name': 'Download HLS.S30.T15XWJ.2020193T213051.v1.5.B01.tif',\n",
       "   'href': 'https://lpdaac.earthdata.nasa.gov/lp-prod-protected/HLSS30.015/HLS.S30.T15XWJ.2020193T213051.v1.5.B01.tif'},\n",
       "  'B06': {'name': 'Download HLS.S30.T15XWJ.2020193T213051.v1.5.B06.tif',\n",
       "   'href': 'https://lpdaac.earthdata.nasa.gov/lp-prod-protected/HLSS30.015/HLS.S30.T15XWJ.2020193T213051.v1.5.B06.tif'},\n",
       "  'B03': {'name': 'Download HLS.S30.T15XWJ.2020193T213051.v1.5.B03.tif',\n",
       "   'href': 'https://lpdaac.earthdata.nasa.gov/lp-prod-protected/HLSS30.015/HLS.S30.T15XWJ.2020193T213051.v1.5.B03.tif'},\n",
       "  'B12': {'name': 'Download HLS.S30.T15XWJ.2020193T213051.v1.5.B12.tif',\n",
       "   'href': 'https://lpdaac.earthdata.nasa.gov/lp-prod-protected/HLSS30.015/HLS.S30.T15XWJ.2020193T213051.v1.5.B12.tif'},\n",
       "  'Fmask': {'name': 'Download HLS.S30.T15XWJ.2020193T213051.v1.5.Fmask.tif',\n",
       "   'href': 'https://lpdaac.earthdata.nasa.gov/lp-prod-protected/HLSS30.015/HLS.S30.T15XWJ.2020193T213051.v1.5.Fmask.tif'},\n",
       "  'B02': {'name': 'Download HLS.S30.T15XWJ.2020193T213051.v1.5.B02.tif',\n",
       "   'href': 'https://lpdaac.earthdata.nasa.gov/lp-prod-protected/HLSS30.015/HLS.S30.T15XWJ.2020193T213051.v1.5.B02.tif'},\n",
       "  'B05': {'name': 'Download HLS.S30.T15XWJ.2020193T213051.v1.5.B05.tif',\n",
       "   'href': 'https://lpdaac.earthdata.nasa.gov/lp-prod-protected/HLSS30.015/HLS.S30.T15XWJ.2020193T213051.v1.5.B05.tif'},\n",
       "  'B10': {'name': 'Download HLS.S30.T15XWJ.2020193T213051.v1.5.B10.tif',\n",
       "   'href': 'https://lpdaac.earthdata.nasa.gov/lp-prod-protected/HLSS30.015/HLS.S30.T15XWJ.2020193T213051.v1.5.B10.tif'},\n",
       "  'B08': {'name': 'Download HLS.S30.T15XWJ.2020193T213051.v1.5.B08.tif',\n",
       "   'href': 'https://lpdaac.earthdata.nasa.gov/lp-prod-protected/HLSS30.015/HLS.S30.T15XWJ.2020193T213051.v1.5.B08.tif'},\n",
       "  'B11': {'name': 'Download HLS.S30.T15XWJ.2020193T213051.v1.5.B11.tif',\n",
       "   'href': 'https://lpdaac.earthdata.nasa.gov/lp-prod-protected/HLSS30.015/HLS.S30.T15XWJ.2020193T213051.v1.5.B11.tif'},\n",
       "  'B09': {'name': 'Download HLS.S30.T15XWJ.2020193T213051.v1.5.B09.tif',\n",
       "   'href': 'https://lpdaac.earthdata.nasa.gov/lp-prod-protected/HLSS30.015/HLS.S30.T15XWJ.2020193T213051.v1.5.B09.tif'},\n",
       "  'B8A': {'name': 'Download HLS.S30.T15XWJ.2020193T213051.v1.5.B8A.tif',\n",
       "   'href': 'https://lpdaac.earthdata.nasa.gov/lp-prod-protected/HLSS30.015/HLS.S30.T15XWJ.2020193T213051.v1.5.B8A.tif'},\n",
       "  'B07': {'name': 'Download HLS.S30.T15XWJ.2020193T213051.v1.5.B07.tif',\n",
       "   'href': 'https://lpdaac.earthdata.nasa.gov/lp-prod-protected/HLSS30.015/HLS.S30.T15XWJ.2020193T213051.v1.5.B07.tif'},\n",
       "  'B04': {'name': 'Download HLS.S30.T15XWJ.2020193T213051.v1.5.B04.tif',\n",
       "   'href': 'https://lpdaac.earthdata.nasa.gov/lp-prod-protected/HLSS30.015/HLS.S30.T15XWJ.2020193T213051.v1.5.B04.tif'},\n",
       "  'browse': {'name': 'Download HLS.S30.T15XWJ.2020193T213051.v1.5.jpg',\n",
       "   'href': 'https://lpdaac.earthdata.nasa.gov/lp-prod-public/HLSS30.015/HLS.S30.T15XWJ.2020193T213051.v1.5.jpg',\n",
       "   'type': 'image/jpeg'},\n",
       "  'metadata': {'href': 'https://cmr.earthdata.nasa.gov/search/concepts/G1949921562-LPCLOUD.xml',\n",
       "   'type': 'application/xml'}}}"
      ]
     },
     "execution_count": 7,
     "metadata": {},
     "output_type": "execute_result"
    }
   ],
   "source": [
    "search_response['features'][0]"
   ]
  },
  {
   "cell_type": "code",
   "execution_count": 8,
   "metadata": {},
   "outputs": [],
   "source": [
    "def remote_to_local(stac_feature, clip_poly, target_dir):\n",
    "    '''\n",
    "    Given an Earthdata STAC feature (dictionary), construct a local geotiff using\n",
    "    the RGB channels from the remote STAC feature clipped to the polygon we set earlier\n",
    "    '''\n",
    "    # extract some information\n",
    "    tile_str, date_str = stac_feature[\"assets\"][\"Fmask\"][\"href\"].split(\".\")[-6:-4]\n",
    "    tif_date = datetime.strptime(date_str, '%Y%jT%H%M%S')\n",
    "    # product.type.datetime.tileindex.version.tif\n",
    "    tif_name = os.path.join(\n",
    "        target_dir, \n",
    "        f'HLS.S30.{tif_date.strftime(\"%Y%m%dT%H%M%S\")}.{tile_str}.v1.5.tif'\n",
    "    )\n",
    "    print(tif_name)\n",
    "    if os.path.exists(tif_name):\n",
    "        return tif_name\n",
    "    # get RGB sources\n",
    "    r = rio.open(stac_feature['assets']['B04']['href'])\n",
    "    # save a copy of the red-band metadata for later use\n",
    "    meta = r.meta.copy()\n",
    "    g = rio.open(stac_feature['assets']['B03']['href'])\n",
    "    b = rio.open(stac_feature['assets']['B02']['href'])\n",
    "    # transform clip-geometry to match source\n",
    "    src = pyproj.CRS.from_epsg(4326)\n",
    "    dst = pyproj.CRS(r.crs)\n",
    "    trans = pyproj.Transformer.from_crs(crs_from=src, crs_to=dst, always_xy=True)\n",
    "    poly_utm = transform(trans.transform, clip_poly)\n",
    "    # apply clip-geometry to source\n",
    "    r_masked, mask_transform = mask(r, [poly_utm], crop=True)\n",
    "    g_masked, _ = mask(g, [poly_utm], crop=True)\n",
    "    b_masked, _ = mask(b, [poly_utm], crop=True)\n",
    "    # update the metadata to match the new clipped boundaries and add some tiling/compression stuff\n",
    "    meta.update({\n",
    "        'count': 3,\n",
    "        'height': r_masked.shape[1],\n",
    "        'width': r_masked.shape[2],\n",
    "        'transform': mask_transform,\n",
    "        'tiled': True,    \n",
    "        'compress': 'DEFLATE',\n",
    "        'tilexsize': 256,\n",
    "        'tileysize': 256,\n",
    "    })\n",
    "    # create the local dataset and build overviews for a series of zoomlevels\n",
    "    with rio.open(tif_name, 'w', **meta) as dst:\n",
    "        for band_id, band in enumerate([r_masked, g_masked, b_masked], start=1):\n",
    "            dst.write_band(band_id, band[0])\n",
    "        dst.colorinterp = [ColorInterp.red, ColorInterp.green, ColorInterp.blue]\n",
    "        dst.build_overviews([2, 4, 8, 16], Resampling.cubic)\n",
    "        dst.update_tags(ns='rio_overview', resampling=Resampling.cubic)\n",
    "    return tif_name"
   ]
  },
  {
   "cell_type": "code",
   "execution_count": 9,
   "metadata": {},
   "outputs": [
    {
     "name": "stdout",
     "output_type": "stream",
     "text": [
      "../test/HLS.S30.20200711T213051.T15XWJ.v1.5.tif\n",
      "CPU times: user 415 ms, sys: 25.6 ms, total: 441 ms\n",
      "Wall time: 43.7 s\n"
     ]
    }
   ],
   "source": [
    "%%time\n",
    "# GDAL configurations used to successfully access LP DAAC Cloud Assets via vsicurl\n",
    "with rio.Env(\n",
    "    CPL_VSIL_CURL_ALLOWED_EXTENSIONS='.tif',\n",
    "    GDAL_DISABLE_READDIR_ON_OPEN='YES',\n",
    "    GDAL_HTTP_UNSAFESSL='YES',\n",
    "    GDAL_HTTP_COOKIEFILE='~/cookies.txt',\n",
    "    GDAL_HTTP_COOKIEJAR='~/cookies.txt'\n",
    "):\n",
    "    tifs = [\n",
    "        remote_to_local(feat, poly, '../test/')\n",
    "        for feat in feats\n",
    "    ]"
   ]
  }
 ],
 "metadata": {
  "kernelspec": {
   "display_name": "Python 3",
   "language": "python",
   "name": "python3"
  },
  "language_info": {
   "codemirror_mode": {
    "name": "ipython",
    "version": 3
   },
   "file_extension": ".py",
   "mimetype": "text/x-python",
   "name": "python",
   "nbconvert_exporter": "python",
   "pygments_lexer": "ipython3",
   "version": "3.7.7"
  }
 },
 "nbformat": 4,
 "nbformat_minor": 4
}
