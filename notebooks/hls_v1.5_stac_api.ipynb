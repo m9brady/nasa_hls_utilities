{
 "cells": [
  {
   "cell_type": "code",
   "execution_count": 1,
   "metadata": {},
   "outputs": [],
   "source": [
    "#builtin\n",
    "import json\n",
    "import os\n",
    "from datetime import datetime\n",
    "\n",
    "#external\n",
    "import gdal\n",
    "import numpy as np\n",
    "import pyproj\n",
    "import rasterio as rio\n",
    "import requests\n",
    "from rasterio.enums import ColorInterp\n",
    "from rasterio.mask import mask\n",
    "from rasterio.warp import Resampling\n",
    "from shapely.geometry import Polygon\n",
    "from shapely.ops import transform"
   ]
  },
  {
   "cell_type": "code",
   "execution_count": 2,
   "metadata": {},
   "outputs": [],
   "source": [
    "EARTHDATA_CMR_STAC = 'https://cmr.earthdata.nasa.gov/stac/'"
   ]
  },
  {
   "cell_type": "code",
   "execution_count": 3,
   "metadata": {},
   "outputs": [
    {
     "name": "stdout",
     "output_type": "stream",
     "text": [
      "{\n",
      "  \"id\": \"LPCLOUD\",\n",
      "  \"title\": \"LPCLOUD\",\n",
      "  \"description\": \"Root catalog for LPCLOUD\",\n",
      "  \"stac_version\": \"1.0.0-beta.1\",\n",
      "  \"links\": [\n",
      "    {\n",
      "      \"rel\": \"self\",\n",
      "      \"href\": \"https://cmr.earthdata.nasa.gov/stac/LPCLOUD\",\n",
      "      \"title\": \"Provider catalog\",\n",
      "      \"type\": \"application/json\"\n",
      "    },\n",
      "    {\n",
      "      \"rel\": \"root\",\n",
      "      \"href\": \"https://cmr.earthdata.nasa.gov/stac/\",\n",
      "      \"title\": \"CMR-STAC Root catalog\",\n",
      "      \"type\": \"application/json\"\n",
      "    },\n",
      "    {\n",
      "      \"rel\": \"collections\",\n",
      "      \"href\": \"https://cmr.earthdata.nasa.gov/stac/LPCLOUD/collections\",\n",
      "      \"title\": \"Provider Collections\",\n",
      "      \"type\": \"application/json\"\n",
      "    },\n",
      "    {\n",
      "      \"rel\": \"search\",\n",
      "      \"href\": \"https://cmr.earthdata.nasa.gov/stac/LPCLOUD/search\",\n",
      "      \"title\": \"Provider Item Search\",\n",
      "      \"type\": \"application/json\"\n",
      "    },\n",
      "    {\n",
      "      \"rel\": \"child\",\n",
      "      \"href\": \"https://cmr.earthdata.nasa.gov/stac/LPCLOUD/collections/C1711924822-LPCLOUD\",\n",
      "      \"title\": \"HLS Sentinel-2 Multi-spectral Instrument Surface Reflectance Daily Global 30 m V1.5\",\n",
      "      \"type\": \"application/json\"\n",
      "    }\n",
      "  ]\n",
      "}\n"
     ]
    }
   ],
   "source": [
    "stac_response = requests.get(EARTHDATA_CMR_STAC).json()\n",
    "# Search for only LP-specific catalogs\n",
    "stac_lp = [s for s in stac_response['links'] if 'LP' in s['title']]\n",
    "lp_cloud = requests.get([s for s in stac_lp if s['title'] == 'LPCLOUD'][0]['href']).json()\n",
    "print(json.dumps(lp_cloud, indent=2))"
   ]
  },
  {
   "cell_type": "code",
   "execution_count": 4,
   "metadata": {},
   "outputs": [
    {
     "name": "stdout",
     "output_type": "stream",
     "text": [
      "{\n",
      "  \"id\": \"C1711924822-LPCLOUD\",\n",
      "  \"short_name\": \"HLSS30\",\n",
      "  \"stac_version\": \"1.0.0-beta.1\",\n",
      "  \"license\": \"not-provided\",\n",
      "  \"title\": \"HLS Sentinel-2 Multi-spectral Instrument Surface Reflectance Daily Global 30 m V1.5\",\n",
      "  \"description\": \"PROVISIONAL - The Harmonized Landsat and Sentinel-2 (HLS)  data have not been validated for their science quality and should not be used in science research or applications. The HLS project provides consistent surface reflectance data from the Operational Land Imager (OLI) aboard the joint NASA/USGS Landsat 8 satellite and the Multi-Spectral Instrument (MSI) aboard the European Union\\u2019s Copernicus Sentinel-2A and Sentinel-2B satellites. The combined measurement enables global observations of the land every 2-3 days at 30 meter (m) spatial resolution. The HLS project uses a set of algorithms to obtain seamless products from OLI and MSI that include atmospheric correction, cloud and cloud-shadow masking, spatial co-registration and common gridding, illumination and view angle normalization, and spectral bandpass adjustment. \\r\\n\\r\\nThe HLSS30 product provides 30 m Nadir Bidirectional Reflectance Distribution Function (BRDF)-Adjusted Reflectance (NBAR) and is derived from Sentinel-2A and Sentinel-2B MSI data products. The HLSS30 and HLSL30 products are gridded to the same resolution and MGRS tiling system, and thus are \\u201cstackable\\u201d for time series analysis.\\r\\nThe HLSS30 product is provided in Cloud Optimized GeoTIFF (COG) format, and each band is distributed as a separate COG. There are 13 bands included in the HLSS30 product along with four angle bands and a quality assessment (QA) band. For a more detailed description of the individual bands provided in the HLSS30 product, please see the User Guide (https://lpdaac.usgs.gov/documents/770/HLS_User_Guide_V15_provisional.pdf).\",\n",
      "  \"links\": [\n",
      "    {\n",
      "      \"rel\": \"self\",\n",
      "      \"href\": \"https://cmr.earthdata.nasa.gov/stac/LPCLOUD/collections/C1711924822-LPCLOUD\",\n",
      "      \"title\": \"Info about this collection\",\n",
      "      \"type\": \"application/json\"\n",
      "    },\n",
      "    {\n",
      "      \"rel\": \"root\",\n",
      "      \"href\": \"https://cmr.earthdata.nasa.gov/stac\",\n",
      "      \"title\": \"Root catalog\",\n",
      "      \"type\": \"application/json\"\n",
      "    },\n",
      "    {\n",
      "      \"rel\": \"parent\",\n",
      "      \"href\": \"https://cmr.earthdata.nasa.gov/stac/LPCLOUD\",\n",
      "      \"title\": \"Parent catalog\",\n",
      "      \"type\": \"application/json\"\n",
      "    },\n",
      "    {\n",
      "      \"rel\": \"stac\",\n",
      "      \"href\": \"https://cmr.earthdata.nasa.gov/stac/LPCLOUD/search?collections=C1711924822-LPCLOUD\",\n",
      "      \"title\": \"STAC Search this collection\",\n",
      "      \"type\": \"application/json\"\n",
      "    },\n",
      "    {\n",
      "      \"rel\": \"cmr\",\n",
      "      \"href\": \"https://cmr.earthdata.nasa.gov/search/granules.json?collection_concept_id=C1711924822-LPCLOUD\",\n",
      "      \"title\": \"CMR Search this collection\",\n",
      "      \"type\": \"application/json\"\n",
      "    },\n",
      "    {\n",
      "      \"rel\": \"items\",\n",
      "      \"href\": \"https://cmr.earthdata.nasa.gov/stac/LPCLOUD/collections/C1711924822-LPCLOUD/items\",\n",
      "      \"title\": \"Granules in this collection\",\n",
      "      \"type\": \"application/json\"\n",
      "    },\n",
      "    {\n",
      "      \"rel\": \"overview\",\n",
      "      \"href\": \"https://cmr.earthdata.nasa.gov/search/concepts/C1711924822-LPCLOUD.html\",\n",
      "      \"title\": \"HTML metadata for collection\",\n",
      "      \"type\": \"text/html\"\n",
      "    },\n",
      "    {\n",
      "      \"rel\": \"metadata\",\n",
      "      \"href\": \"https://cmr.earthdata.nasa.gov/search/concepts/C1711924822-LPCLOUD.xml\",\n",
      "      \"title\": \"Native metadata for collection\",\n",
      "      \"type\": \"application/xml\"\n",
      "    },\n",
      "    {\n",
      "      \"rel\": \"metadata\",\n",
      "      \"href\": \"https://cmr.earthdata.nasa.gov/search/concepts/C1711924822-LPCLOUD.umm_json\",\n",
      "      \"title\": \"JSON metadata for collection\",\n",
      "      \"type\": \"application/json\"\n",
      "    },\n",
      "    {\n",
      "      \"rel\": \"child\",\n",
      "      \"href\": \"https://cmr.earthdata.nasa.gov/stac/LPCLOUD/collections/C1711924822-LPCLOUD/2015\",\n",
      "      \"title\": \"2015 catalog\",\n",
      "      \"type\": \"application/json\"\n",
      "    },\n",
      "    {\n",
      "      \"rel\": \"child\",\n",
      "      \"href\": \"https://cmr.earthdata.nasa.gov/stac/LPCLOUD/collections/C1711924822-LPCLOUD/2017\",\n",
      "      \"title\": \"2017 catalog\",\n",
      "      \"type\": \"application/json\"\n",
      "    },\n",
      "    {\n",
      "      \"rel\": \"child\",\n",
      "      \"href\": \"https://cmr.earthdata.nasa.gov/stac/LPCLOUD/collections/C1711924822-LPCLOUD/2020\",\n",
      "      \"title\": \"2020 catalog\",\n",
      "      \"type\": \"application/json\"\n",
      "    },\n",
      "    {\n",
      "      \"rel\": \"child\",\n",
      "      \"href\": \"https://cmr.earthdata.nasa.gov/stac/LPCLOUD/collections/C1711924822-LPCLOUD/2021\",\n",
      "      \"title\": \"2021 catalog\",\n",
      "      \"type\": \"application/json\"\n",
      "    }\n",
      "  ],\n",
      "  \"extent\": {\n",
      "    \"crs\": \"http://www.opengis.net/def/crs/OGC/1.3/CRS84\",\n",
      "    \"spatial\": {\n",
      "      \"bbox\": [\n",
      "        [\n",
      "          -180,\n",
      "          -90,\n",
      "          180,\n",
      "          90\n",
      "        ]\n",
      "      ]\n",
      "    },\n",
      "    \"trs\": \"http://www.opengis.net/def/uom/ISO-8601/0/Gregorian\",\n",
      "    \"temporal\": {\n",
      "      \"interval\": [\n",
      "        [\n",
      "          \"2014-04-03T00:00:00.000Z\",\n",
      "          null\n",
      "        ]\n",
      "      ]\n",
      "    }\n",
      "  }\n",
      "}\n"
     ]
    }
   ],
   "source": [
    "hls_collection = [l['href'] for l in lp_cloud['links'] if 'HLS' in l['title']][0]\n",
    "hls_response = requests.get(hls_collection).json()\n",
    "hls_search_url = [l['href'] for l in hls_response['links'] if l['rel'] == 'stac'][0]\n",
    "print(json.dumps(hls_response, indent=2))"
   ]
  },
  {
   "cell_type": "code",
   "execution_count": 5,
   "metadata": {},
   "outputs": [
    {
     "name": "stdout",
     "output_type": "stream",
     "text": [
      "{\n",
      "  \"type\": \"Feature\",\n",
      "  \"properties\": {},\n",
      "  \"geometry\": {\n",
      "    \"type\": \"Polygon\",\n",
      "    \"coordinates\": [\n",
      "      [\n",
      "        [\n",
      "          -87.8741455078125,\n",
      "          80.3025547350612\n",
      "        ],\n",
      "        [\n",
      "          -87.5006103515625,\n",
      "          80.02955732601929\n",
      "        ],\n",
      "        [\n",
      "          -86.51184082031249,\n",
      "          79.72938465835632\n",
      "        ],\n",
      "        [\n",
      "          -85.10009765625,\n",
      "          79.88201996361602\n",
      "        ],\n",
      "        [\n",
      "          -85.484619140625,\n",
      "          80.30718013404172\n",
      "        ],\n",
      "        [\n",
      "          -87.8741455078125,\n",
      "          80.3025547350612\n",
      "        ]\n",
      "      ]\n",
      "    ]\n",
      "  }\n",
      "}\n"
     ]
    },
    {
     "data": {
      "image/svg+xml": [
       "<svg xmlns=\"http://www.w3.org/2000/svg\" xmlns:xlink=\"http://www.w3.org/1999/xlink\" width=\"100.0\" height=\"100.0\" viewBox=\"-87.985107421875 79.61842274429382 2.9959716796875 0.7997193038103916\" preserveAspectRatio=\"xMinYMin meet\"><g transform=\"matrix(1,0,0,-1,0,160.03656479239805)\"><path fill-rule=\"evenodd\" fill=\"#66cc99\" stroke=\"#555555\" stroke-width=\"0.05991943359375\" opacity=\"0.6\" d=\"M -87.8741455078125,80.3025547350612 L -87.5006103515625,80.02955732601929 L -86.51184082031249,79.72938465835632 L -85.10009765625,79.88201996361602 L -85.484619140625,80.30718013404172 L -87.8741455078125,80.3025547350612 z\" /></g></svg>"
      ],
      "text/plain": [
       "<shapely.geometry.polygon.Polygon at 0x7fa0a35c4d50>"
      ]
     },
     "execution_count": 5,
     "metadata": {},
     "output_type": "execute_result"
    }
   ],
   "source": [
    "# load a search polygon (Eureka)\n",
    "with open('../assets/query_aoi.geojson') as f:\n",
    "    aoi = json.load(f)['features'][0]\n",
    "print(json.dumps(aoi, indent=2))\n",
    "poly = Polygon(aoi['geometry']['coordinates'][0])\n",
    "poly"
   ]
  },
  {
   "cell_type": "code",
   "execution_count": 6,
   "metadata": {},
   "outputs": [
    {
     "name": "stdout",
     "output_type": "stream",
     "text": [
      "{\n",
      "  \"limit\": 10,\n",
      "  \"bounding_box\": \"-87.874,79.729,-85.1,80.307\",\n",
      "  \"datetime\": \"2020-07-09T20:50:00Z/2020-07-09T20:55:00Z\"\n",
      "}\n"
     ]
    }
   ],
   "source": [
    "# unclear how the STAC `intersects` parameter works - might be misconfigured NASA-side as it produces wrong results when used with raw geojson\n",
    "search_params = {\n",
    "    'limit': 10,\n",
    "    'bounding_box': f'{\",\".join([str(round(f,3)) for f in list(poly.bounds)])}', # this param should be `bbox` according to STAC-spec\n",
    "    'datetime': '2020-07-09T20:50:00Z/2020-07-09T20:55:00Z',\n",
    "    #'intersects': aoi\n",
    "}\n",
    "print(json.dumps(search_params, indent=2))"
   ]
  },
  {
   "cell_type": "code",
   "execution_count": 7,
   "metadata": {},
   "outputs": [
    {
     "data": {
      "text/plain": [
       "'https://cmr.earthdata.nasa.gov/stac/LPCLOUD/search?collections=C1711924822-LPCLOUD&limit=10&bounding_box=-87.874,79.729,-85.1,80.307&datetime=2020-07-09T20:50:00Z/2020-07-09T20:55:00Z'"
      ]
     },
     "execution_count": 7,
     "metadata": {},
     "output_type": "execute_result"
    }
   ],
   "source": [
    "search_str = '&' + '&'.join(['{}={}'.format(k,v) for (k,v) in search_params.items()])\n",
    "search_query = hls_search_url + search_str\n",
    "search_query"
   ]
  },
  {
   "cell_type": "code",
   "execution_count": 8,
   "metadata": {},
   "outputs": [
    {
     "name": "stdout",
     "output_type": "stream",
     "text": [
      "8 features found with first query\n",
      "8 total features found by the query parameters\n"
     ]
    }
   ],
   "source": [
    "search_response = requests.get(search_query).json()\n",
    "print('%d features found with first query' % len(search_response['features']))\n",
    "feats = search_response['features']\n",
    "# pagination is cool\n",
    "try:\n",
    "    next_page = [l['href'] for l in search_response['links'] if l['rel'] == 'next'][0]\n",
    "except IndexError:\n",
    "    next_page = None\n",
    "while next_page is not None:\n",
    "    search_response = requests.get(next_page).json()\n",
    "    feats.extend(search_response['features'])\n",
    "    try:\n",
    "        next_page = [l['href'] for l in search_response['links'] if l['rel'] == 'next'][0]\n",
    "    except IndexError:\n",
    "        next_page = None\n",
    "print('%d total features found by the query parameters' % len(feats))"
   ]
  },
  {
   "cell_type": "code",
   "execution_count": 9,
   "metadata": {
    "scrolled": false
   },
   "outputs": [
    {
     "data": {
      "text/plain": [
       "['2020-07-09T20:51:16.829Z',\n",
       " '2020-07-09T20:51:18.232Z',\n",
       " '2020-07-09T20:51:20.001Z',\n",
       " '2020-07-09T20:51:22.809Z',\n",
       " '2020-07-09T20:51:32.242Z',\n",
       " '2020-07-09T20:51:33.599Z',\n",
       " '2020-07-09T20:51:37.402Z',\n",
       " '2020-07-09T20:51:40.193Z']"
      ]
     },
     "execution_count": 9,
     "metadata": {},
     "output_type": "execute_result"
    }
   ],
   "source": [
    "[f['properties']['datetime'] for f in feats]"
   ]
  },
  {
   "cell_type": "code",
   "execution_count": 10,
   "metadata": {},
   "outputs": [
    {
     "data": {
      "text/plain": [
       "{'type': 'Feature',\n",
       " 'id': 'G1947816187-LPCLOUD',\n",
       " 'stac_version': '1.0.0-beta.1',\n",
       " 'stac_extensions': ['eo'],\n",
       " 'collection': 'C1711924822-LPCLOUD',\n",
       " 'geometry': {'type': 'Polygon',\n",
       "  'coordinates': [[[-86.186221, 80.0371955],\n",
       "    [-80.4926746, 80.0767959],\n",
       "    [-80.4373911, 81.0604569],\n",
       "    [-83.5624131, 81.0520772],\n",
       "    [-86.7477998, 81.0164388],\n",
       "    [-86.186221, 80.0371955]]]},\n",
       " 'bbox': [-86.7478, 80.037196, -80.437391, 81.060881],\n",
       " 'links': [{'rel': 'self',\n",
       "   'href': 'https://cmr.earthdata.nasa.gov/stac/LPCLOUD/collections/C1711924822-LPCLOUD/items/G1947816187-LPCLOUD'},\n",
       "  {'rel': 'parent',\n",
       "   'href': 'https://cmr.earthdata.nasa.gov/stac/LPCLOUD/collections/C1711924822-LPCLOUD'},\n",
       "  {'rel': 'collection',\n",
       "   'href': 'https://cmr.earthdata.nasa.gov/stac/LPCLOUD/collections/C1711924822-LPCLOUD'},\n",
       "  {'rel': 'root', 'href': 'https://cmr.earthdata.nasa.gov/stac/'},\n",
       "  {'rel': 'provider', 'href': 'https://cmr.earthdata.nasa.gov/stac/LPCLOUD'}],\n",
       " 'properties': {'datetime': '2020-07-09T20:51:16.829Z',\n",
       "  'start_datetime': '2020-07-09T20:51:16.829Z',\n",
       "  'end_datetime': '2020-07-09T20:51:16.829Z',\n",
       "  'eo:cloud_cover': 100},\n",
       " 'assets': {'B8A': {'name': 'Download HLS.S30.T17XMK.2020191T205031.v1.5.B8A.tif',\n",
       "   'href': 'https://lpdaac.earthdata.nasa.gov/lp-prod-protected/HLSS30.015/HLS.S30.T17XMK.2020191T205031.v1.5.B8A.tif'},\n",
       "  'B11': {'name': 'Download HLS.S30.T17XMK.2020191T205031.v1.5.B11.tif',\n",
       "   'href': 'https://lpdaac.earthdata.nasa.gov/lp-prod-protected/HLSS30.015/HLS.S30.T17XMK.2020191T205031.v1.5.B11.tif'},\n",
       "  'B02': {'name': 'Download HLS.S30.T17XMK.2020191T205031.v1.5.B02.tif',\n",
       "   'href': 'https://lpdaac.earthdata.nasa.gov/lp-prod-protected/HLSS30.015/HLS.S30.T17XMK.2020191T205031.v1.5.B02.tif'},\n",
       "  'Fmask': {'name': 'Download HLS.S30.T17XMK.2020191T205031.v1.5.Fmask.tif',\n",
       "   'href': 'https://lpdaac.earthdata.nasa.gov/lp-prod-protected/HLSS30.015/HLS.S30.T17XMK.2020191T205031.v1.5.Fmask.tif'},\n",
       "  'B12': {'name': 'Download HLS.S30.T17XMK.2020191T205031.v1.5.B12.tif',\n",
       "   'href': 'https://lpdaac.earthdata.nasa.gov/lp-prod-protected/HLSS30.015/HLS.S30.T17XMK.2020191T205031.v1.5.B12.tif'},\n",
       "  'B06': {'name': 'Download HLS.S30.T17XMK.2020191T205031.v1.5.B06.tif',\n",
       "   'href': 'https://lpdaac.earthdata.nasa.gov/lp-prod-protected/HLSS30.015/HLS.S30.T17XMK.2020191T205031.v1.5.B06.tif'},\n",
       "  'B09': {'name': 'Download HLS.S30.T17XMK.2020191T205031.v1.5.B09.tif',\n",
       "   'href': 'https://lpdaac.earthdata.nasa.gov/lp-prod-protected/HLSS30.015/HLS.S30.T17XMK.2020191T205031.v1.5.B09.tif'},\n",
       "  'B05': {'name': 'Download HLS.S30.T17XMK.2020191T205031.v1.5.B05.tif',\n",
       "   'href': 'https://lpdaac.earthdata.nasa.gov/lp-prod-protected/HLSS30.015/HLS.S30.T17XMK.2020191T205031.v1.5.B05.tif'},\n",
       "  'B03': {'name': 'Download HLS.S30.T17XMK.2020191T205031.v1.5.B03.tif',\n",
       "   'href': 'https://lpdaac.earthdata.nasa.gov/lp-prod-protected/HLSS30.015/HLS.S30.T17XMK.2020191T205031.v1.5.B03.tif'},\n",
       "  'B08': {'name': 'Download HLS.S30.T17XMK.2020191T205031.v1.5.B08.tif',\n",
       "   'href': 'https://lpdaac.earthdata.nasa.gov/lp-prod-protected/HLSS30.015/HLS.S30.T17XMK.2020191T205031.v1.5.B08.tif'},\n",
       "  'B01': {'name': 'Download HLS.S30.T17XMK.2020191T205031.v1.5.B01.tif',\n",
       "   'href': 'https://lpdaac.earthdata.nasa.gov/lp-prod-protected/HLSS30.015/HLS.S30.T17XMK.2020191T205031.v1.5.B01.tif'},\n",
       "  'B10': {'name': 'Download HLS.S30.T17XMK.2020191T205031.v1.5.B10.tif',\n",
       "   'href': 'https://lpdaac.earthdata.nasa.gov/lp-prod-protected/HLSS30.015/HLS.S30.T17XMK.2020191T205031.v1.5.B10.tif'},\n",
       "  'B04': {'name': 'Download HLS.S30.T17XMK.2020191T205031.v1.5.B04.tif',\n",
       "   'href': 'https://lpdaac.earthdata.nasa.gov/lp-prod-protected/HLSS30.015/HLS.S30.T17XMK.2020191T205031.v1.5.B04.tif'},\n",
       "  'B07': {'name': 'Download HLS.S30.T17XMK.2020191T205031.v1.5.B07.tif',\n",
       "   'href': 'https://lpdaac.earthdata.nasa.gov/lp-prod-protected/HLSS30.015/HLS.S30.T17XMK.2020191T205031.v1.5.B07.tif'},\n",
       "  'browse': {'name': 'Download HLS.S30.T17XMK.2020191T205031.v1.5.jpg',\n",
       "   'href': 'https://lpdaac.earthdata.nasa.gov/lp-prod-public/HLSS30.015/HLS.S30.T17XMK.2020191T205031.v1.5.jpg',\n",
       "   'type': 'image/jpeg'},\n",
       "  'metadata': {'href': 'https://cmr.earthdata.nasa.gov/search/concepts/G1947816187-LPCLOUD.xml',\n",
       "   'type': 'application/xml'}}}"
      ]
     },
     "execution_count": 10,
     "metadata": {},
     "output_type": "execute_result"
    }
   ],
   "source": [
    "search_response['features'][0]"
   ]
  },
  {
   "cell_type": "code",
   "execution_count": 11,
   "metadata": {},
   "outputs": [],
   "source": [
    "def remote_to_local(stac_feature, target_dir):\n",
    "    '''\n",
    "    Given an Earthdata STAC feature (dictionary), construct a local geotif using\n",
    "    the RGB channels from the remote STAC feature\n",
    "    '''\n",
    "    # extract some information\n",
    "    tile_str, date_str = stac_feature[\"assets\"][\"Fmask\"][\"href\"].split(\".\")[-6:-4]\n",
    "    tif_date = datetime.strptime(date_str, '%Y%jT%H%M%S')\n",
    "    # product.type.datetime.tileindex.version.tif\n",
    "    tif_name = os.path.join(\n",
    "        target_dir, \n",
    "        f'HLS.S30.{tif_date.strftime(\"%Y%m%dT%H%M%S\")}.{tile_str}.v1.5.tif'\n",
    "    )\n",
    "    if os.path.exists(tif_name):\n",
    "        return tif_name\n",
    "    # get RGB sources\n",
    "    r = rio.open(stac_feature['assets']['B04']['href'])\n",
    "    # save a copy of the red-band metadata for later use\n",
    "    meta = r.meta.copy()\n",
    "    g = rio.open(stac_feature['assets']['B03']['href'])\n",
    "    b = rio.open(stac_feature['assets']['B02']['href'])\n",
    "    # transform clip-geometry to match source\n",
    "    src = pyproj.CRS.from_epsg(4326)\n",
    "    dst = pyproj.CRS(r.crs)\n",
    "    trans = pyproj.Transformer.from_crs(crs_from=src, crs_to=dst, always_xy=True)\n",
    "    poly_utm = transform(trans.transform, poly)\n",
    "    # apply clip-geometry to source\n",
    "    r_masked, mask_transform = mask(r, [poly_utm], crop=True)\n",
    "    g_masked, _ = mask(g, [poly_utm], crop=True)\n",
    "    b_masked, _ = mask(b, [poly_utm], crop=True)\n",
    "    # update the metadata to match the new clipped boundaries and add some tiling/compression stuff\n",
    "    meta.update({\n",
    "        'count': 3,\n",
    "        'height': r_masked.shape[1],\n",
    "        'width': r_masked.shape[2],\n",
    "        'transform': mask_transform,\n",
    "        'tiled': True,    \n",
    "        'compress': 'DEFLATE',\n",
    "        'tilexsize': 256,\n",
    "        'tileysize': 256,\n",
    "    })\n",
    "    # create the local dataset and build overviews for a series of zoomlevels\n",
    "    with rio.open(tif_name, 'w', **meta) as dst:\n",
    "        for band_id, band in enumerate([r_masked, g_masked, b_masked], start=1):\n",
    "            dst.write_band(band_id, band[0])\n",
    "        dst.colorinterp = [ColorInterp.red, ColorInterp.green, ColorInterp.blue]\n",
    "        dst.build_overviews([2, 4, 8, 16], Resampling.cubic)\n",
    "        dst.update_tags(ns='rio_overview', resampling=Resampling.cubic)\n",
    "    return tif_name"
   ]
  },
  {
   "cell_type": "code",
   "execution_count": 12,
   "metadata": {},
   "outputs": [
    {
     "name": "stdout",
     "output_type": "stream",
     "text": [
      "CPU times: user 4.36 s, sys: 172 ms, total: 4.53 s\n",
      "Wall time: 3min 31s\n"
     ]
    },
    {
     "data": {
      "text/plain": [
       "['../scratch/HLS.S30.20200709T205031.T17XMK.v1.5.tif',\n",
       " '../scratch/HLS.S30.20200709T205031.T16XEQ.v1.5.tif',\n",
       " '../scratch/HLS.S30.20200709T205031.T17XMJ.v1.5.tif',\n",
       " '../scratch/HLS.S30.20200709T205031.T16XEP.v1.5.tif',\n",
       " '../scratch/HLS.S30.20200709T205031.T16XDQ.v1.5.tif',\n",
       " '../scratch/HLS.S30.20200709T205031.T15XWK.v1.5.tif',\n",
       " '../scratch/HLS.S30.20200709T205031.T16XDP.v1.5.tif',\n",
       " '../scratch/HLS.S30.20200709T205031.T15XWJ.v1.5.tif']"
      ]
     },
     "execution_count": 12,
     "metadata": {},
     "output_type": "execute_result"
    }
   ],
   "source": [
    "%%time\n",
    "# GDAL configurations used to successfully access LP DAAC Cloud Assets via vsicurl\n",
    "with rio.Env(\n",
    "    CPL_VSIL_CURL_ALLOWED_EXTENSIONS='.tif',\n",
    "    GDAL_DISABLE_READDIR_ON_OPEN='YES',\n",
    "    GDAL_HTTP_UNSAFESSL='YES',\n",
    "    GDAL_HTTP_COOKIEFILE='~/cookies.txt',\n",
    "    GDAL_HTTP_COOKIEJAR='~/cookies.txt'\n",
    "):\n",
    "    tifs = [\n",
    "        remote_to_local(feat, '../scratch/')\n",
    "        for feat in feats\n",
    "    ]\n",
    "tifs"
   ]
  }
 ],
 "metadata": {
  "kernelspec": {
   "display_name": "Python 3",
   "language": "python",
   "name": "python3"
  },
  "language_info": {
   "codemirror_mode": {
    "name": "ipython",
    "version": 3
   },
   "file_extension": ".py",
   "mimetype": "text/x-python",
   "name": "python",
   "nbconvert_exporter": "python",
   "pygments_lexer": "ipython3",
   "version": "3.7.7"
  }
 },
 "nbformat": 4,
 "nbformat_minor": 4
}
